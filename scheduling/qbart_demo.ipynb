{
 "cells": [
  {
   "cell_type": "markdown",
   "metadata": {},
   "source": [
    "# QBART: A general QNN inference Accelerator\n",
    "\n",
    "*Welcome to QBART, the Quantized, Bitserial, AcceleRaTor!*\n",
    "\n",
    "<img src=\"logo.png\",width=400,height=400>\n",
    "\n",
    "In this MVP-implementation, the QBART-team have prepared the following:\n",
    "- Three layers run on the FPGA: Thresholding, Fully Connected, and Convolution.\n",
    "- All the other layers run on the Cortex A9s through this notebook: pooling, minimax, and ??\n",
    "- We utilize little to no BRAM on the FPGA, as most IO is saved directly to DRAM, and we have no custom memory hierarchy for the FPGA, so memory performance is suboptimal.\n",
    "- We use the GTSRB-benchmark as the default in testing.\n",
    "- QBART can scale across several PYNQs via ethernet, yielding a linear speedup (speedup ~= Number of PYNQs/1)\n",
    "\n",
    "Alright, let's get to it!\n",
    "\n",
    "## Requirements:\n",
    "- A trained QNN that is constructed with layers.py in the QNN folder, then pickled with python2 to a pickle file.\n",
    "- This must be placed on the PYNQ, and you must edit the QNN path below so that QBART can find and work on it.\n",
    "- Image(s) must also be placed in a seperate folders, and you must set the image path accordingly.\n",
    "- You must also manually configure the configpart below, and setup static IPs for your additional PYNQs if you want to use distributed computing.\n",
    "\n",
    "Alright, with the requirements done, we do the following:\n",
    "1. Run all image classifications on QBART, and time it.\n",
    "2. Run all image classifications on a pure, correct CPU implementation, and time it.\n",
    "3. Check if both QBART and the CPU implementation agree. If both implementations agree on all image classifications, we know that the QBART implementation is correct.\n",
    "4. Present the results to the user."
   ]
  },
  {
   "cell_type": "markdown",
   "metadata": {},
   "source": [
    "# Step 1: Running all image classifications on QBART"
   ]
  },
  {
   "cell_type": "code",
   "execution_count": 1,
   "metadata": {
    "scrolled": true
   },
   "outputs": [
    {
     "name": "stdout",
     "output_type": "stream",
     "text": [
      "QBART Notebook now running\n",
      "Loading images\n",
      "Loading QNN\n",
      "Starting timer for classification\n",
      "Sending images and qnn to server(s) for classification.\n",
      "Could not connect to localhost\n",
      "Could not connect to 192.168.1.7\n",
      "Could not connect to 192.168.1.4\n",
      "Could not connect to 192.168.1.2\n",
      "Successfully connected to 192.168.1.5\n",
      "Connected servers are now receiving and working on images.\n",
      "All results received.\n",
      "Timer stopped.\n"
     ]
    }
   ],
   "source": [
    "# Open source libraries\n",
    "from time import time\n",
    "import copy\n",
    "import os\n",
    "\n",
    "# Custom functions for the project\n",
    "from qbart_helper import *\n",
    "from client import classification_client\n",
    "\n",
    "# Provided by course instructor (github: Maltanar)\n",
    "from QNN import *\n",
    "\n",
    "###########################################################################################################\n",
    "### USER INPUT SECTION, USER MUST SUBMIT VALUES OR \"None\" WHERE APPLICABLE\n",
    "###########################################################################################################\n",
    "\n",
    "\n",
    "qnn_path = \"gtsrb-w1a1.pickle\"         # Image directory, relative to where the notebook resides.\n",
    "image_dir = \"Images\"                   # Image directory, relative to where the notebook resides.\n",
    "image_limit = 100                      # Max amount of images to be inferenced, set float(\"Inf\") to inference all.\n",
    "image_channels = \"RGB\"                 # Must be specified in order if the image is not a .jpg or .ppm\n",
    "image_data_layout = \"rcC\"              # Must be specified, r = row, c = column, C = Channel\n",
    "\n",
    "qbart_data_layout = \"Crc\"              # Qbart assumes data to be in column major form.\n",
    "\n",
    "qnn_trained_channels = \"BGR\"           # The color channel ordering that the qnn is trained to.\n",
    "qnn_trained_imsize_col = 32            # The expected column size of input images to the qnn.\n",
    "qnn_trained_imsize_row = 32            # The expected row size of input images to the qnn.\n",
    "\n",
    "# Cluster config\n",
    "aase = '192.168.1.7'\n",
    "bjorg = '192.168.1.4'\n",
    "gunn = '192.168.1.2'\n",
    "solfrid = '192.168.1.5'\n",
    "qbart_port = 64646\n",
    "\n",
    "# At least one server (localhost or remote) must be running, or we can't run.\n",
    "server_list = [('localhost', qbart_port), (aase, qbart_port), (bjorg, qbart_port), (gunn, qbart_port), (solfrid, qbart_port)] \n",
    "\n",
    "# Either specify image classes to get an easily readable name, or specify None to just get a category #.\n",
    "image_classes = ['20 Km/h', '30 Km/h', '50 Km/h', '60 Km/h', '70 Km/h', '80 Km/h', 'End 80 Km/h', '100 Km/h', '120 Km/h', 'No overtaking', 'No overtaking for large trucks', 'Priority crossroad', 'Priority road', 'Give way', 'Stop', 'No vehicles', 'Prohibited for vehicles with a permitted gross weight over 3.5t including their trailers, and for tractors except passenger cars and buses', 'No entry for vehicular traffic', 'Danger Ahead', 'Bend to left', 'Bend to right', 'Double bend (first to left)', 'Uneven road', 'Road slippery when wet or dirty', 'Road narrows (right)', 'Road works', 'Traffic signals', 'Pedestrians in road ahead', 'Children crossing ahead', 'Bicycles prohibited', 'Risk of snow or ice', 'Wild animals', 'End of all speed and overtaking restrictions', 'Turn right ahead', 'Turn left ahead', 'Ahead only', 'Ahead or right only', 'Ahead or left only', 'Pass by on right', 'Pass by on left', 'Roundabout', 'End of no-overtaking zone', 'End of no-overtaking zone for vehicles with a permitted gross weight over 3.5t including their trailers, and for tractors except passenger cars and buses']\n",
    "\n",
    "###########################################################################################################\n",
    "###########################################################################################################\n",
    "\n",
    "###########################################################################################################\n",
    "### MAIN METHOD, SHOULD BE KEPT RELATIVELY SIMPLE, DETAILS STORED AWAY IN HELPER FUNCTIONS\n",
    "###########################################################################################################\n",
    "print(\"QBART Notebook now running\")\n",
    "print(\"Loading images\")\n",
    "images = load_images(image_dir, image_limit, qnn_trained_imsize_col, qnn_trained_imsize_row, qbart_data_layout, qnn_trained_channels)\n",
    "print(\"Loading QNN\")\n",
    "qnn = load_qnn(qnn_path)\n",
    "\n",
    "print(\"Starting timer for classification\")\n",
    "qbart_starttime = time()\n",
    "# We send the images to the processing server (currently localhost, can later be localhost and others (each with\n",
    "# its separate thread here in main or in classification client.))\n",
    "print(\"Sending images and qnn to server(s) for classification.\")\n",
    "qbart_classifications = classification_client(qnn, copy.copy(images), server_list)\n",
    "print(\"All results received.\")\n",
    "qbart_classifications = [j for i in qbart_classifications for j in i] # We flatten the list we receive. A bit messy.\n",
    "qbart_endtime = time()\n",
    "print(\"Timer stopped.\")\n",
    "\n",
    "\n",
    "    \n",
    "###########################################################################################################\n",
    "###########################################################################################################"
   ]
  },
  {
   "cell_type": "markdown",
   "metadata": {},
   "source": [
    "# Step 2: Running all image classifications on a CPU implementation "
   ]
  },
  {
   "cell_type": "markdown",
   "metadata": {},
   "source": [
    "Using the code from qnn-inference-examples (GTSRB only)\n",
    "With some modifications in order to batch process images instead of one-at-a-time."
   ]
  },
  {
   "cell_type": "code",
   "execution_count": 2,
   "metadata": {},
   "outputs": [
    {
     "name": "stdout",
     "output_type": "stream",
     "text": [
      "Starting CPU implement run on notebook.\n",
      "Loading qnn pickle\n",
      "Starting timer.\n",
      "Classifying..\n",
      "We finished classifying. Clock stopped.\n"
     ]
    }
   ],
   "source": [
    "import cPickle as pickle\n",
    "from PIL import Image\n",
    "import numpy as np\n",
    "#from QNN import *\n",
    "from QNN.layers import *\n",
    "#from qbart_helper import *\n",
    "\n",
    "print(\"Starting CPU implement run on notebook.\")\n",
    "print(\"Loading qnn pickle\")\n",
    "# Load the qnn pickle string\n",
    "qnn_unpickled = pickle.loads(qnn)\n",
    "\n",
    "# Tutorial code galore\n",
    "print(\"Starting timer.\")\n",
    "tutorial_start = time()\n",
    "qnn_classifications = []\n",
    "\n",
    "print(\"Classifying..\")\n",
    "for image in images:\n",
    "    qnn_classifications.append((image[0], np.argmax(predict(qnn_unpickled, image[1]))))\n",
    "    \n",
    "tutorial_stop = time()\n",
    "tutorial_time_total = tutorial_stop - tutorial_start\n",
    "print(\"We finished classifying. Clock stopped.\")"
   ]
  },
  {
   "cell_type": "markdown",
   "metadata": {
    "collapsed": true
   },
   "source": [
    "# Step 3: Simple implementation correctness testing"
   ]
  },
  {
   "cell_type": "markdown",
   "metadata": {},
   "source": [
    "QBART is a QNN inference accelerator. Therefore, we do not test to see if the images are actually classified correctly, only that we execute the inference correctly. The actual classification accuracy is determined by the way that the QNN is trained. Therefore, we test for correctness by seeing if the classification list of the pure CPU classifications is equal to the QBART classifications."
   ]
  },
  {
   "cell_type": "code",
   "execution_count": 3,
   "metadata": {},
   "outputs": [
    {
     "name": "stdout",
     "output_type": "stream",
     "text": [
      "The classification lists are identical, therefore qbart works correctly.\n"
     ]
    }
   ],
   "source": [
    "if qnn_classifications == qbart_classifications:\n",
    "    print(\"The classification lists are identical, therefore qbart works correctly.\")\n",
    "else:\n",
    "    print(\"There is a mismatch between the pure cpu classification and the qbart classification. There is an error somewhere.\")"
   ]
  },
  {
   "cell_type": "markdown",
   "metadata": {
    "collapsed": true
   },
   "source": [
    "# Step 4: Presentation of results"
   ]
  },
  {
   "cell_type": "code",
   "execution_count": 4,
   "metadata": {
    "scrolled": true
   },
   "outputs": [
    {
     "name": "stdout",
     "output_type": "stream",
     "text": [
      "Time used by QBART classification: 89.004502058\n",
      "Time used by tutorial classification: 3.98354101181\n",
      "Printing classifications and writing to results.txt\n",
      "('00000.ppm', 'Prohibited for vehicles with a permitted gross weight over 3.5t including their trailers, and for tractors except passenger cars and buses')\n",
      "('00001.ppm', '30 Km/h')\n",
      "('00002.ppm', 'Pass by on right')\n",
      "('00003.ppm', 'Turn right ahead')\n",
      "('00004.ppm', 'Priority crossroad')\n",
      "('00005.ppm', 'Pass by on right')\n",
      "('00006.ppm', 'Danger Ahead')\n",
      "('00007.ppm', 'Priority road')\n",
      "('00008.ppm', 'Road works')\n",
      "('00009.ppm', 'Ahead only')\n",
      "('00010.ppm', 'Priority road')\n",
      "('00011.ppm', '100 Km/h')\n",
      "('00012.ppm', 'Road slippery when wet or dirty')\n",
      "('00013.ppm', '100 Km/h')\n",
      "('00014.ppm', '70 Km/h')\n",
      "('00015.ppm', 'No overtaking')\n",
      "('00016.ppm', 'Double bend (first to left)')\n",
      "('00017.ppm', 'Bend to right')\n",
      "('00018.ppm', 'Pedestrians in road ahead')\n",
      "('00019.ppm', 'Pass by on right')\n",
      "('00020.ppm', '70 Km/h')\n",
      "('00021.ppm', 'Turn right ahead')\n",
      "('00022.ppm', 'No overtaking')\n",
      "('00023.ppm', '60 Km/h')\n",
      "('00024.ppm', '30 Km/h')\n",
      "('00025.ppm', 'Priority crossroad')\n",
      "('00026.ppm', 'Give way')\n",
      "('00027.ppm', 'No overtaking for large trucks')\n",
      "('00028.ppm', 'No overtaking')\n",
      "('00029.ppm', 'Priority crossroad')\n",
      "('00030.ppm', '80 Km/h')\n",
      "('00031.ppm', 'No entry for vehicular traffic')\n",
      "('00032.ppm', 'Turn left ahead')\n",
      "('00033.ppm', 'Road slippery when wet or dirty')\n",
      "('00034.ppm', '50 Km/h')\n",
      "('00035.ppm', 'No entry for vehicular traffic')\n",
      "('00036.ppm', '60 Km/h')\n",
      "('00037.ppm', 'Priority road')\n",
      "('00038.ppm', 'Prohibited for vehicles with a permitted gross weight over 3.5t including their trailers, and for tractors except passenger cars and buses')\n",
      "('00039.ppm', '120 Km/h')\n",
      "('00040.ppm', '100 Km/h')\n",
      "('00041.ppm', 'Risk of snow or ice')\n",
      "('00042.ppm', 'Danger Ahead')\n",
      "('00043.ppm', 'Priority road')\n",
      "('00044.ppm', 'Road narrows (right)')\n",
      "('00045.ppm', '50 Km/h')\n",
      "('00046.ppm', '60 Km/h')\n",
      "('00047.ppm', 'No overtaking for large trucks')\n",
      "('00048.ppm', 'No overtaking for large trucks')\n",
      "('00049.ppm', '30 Km/h')\n",
      "('00050.ppm', 'Pass by on left')\n",
      "('00051.ppm', 'Give way')\n",
      "('00052.ppm', 'No vehicles')\n",
      "('00053.ppm', 'No overtaking')\n",
      "('00054.ppm', 'Give way')\n",
      "('00055.ppm', 'Ahead only')\n",
      "('00056.ppm', '80 Km/h')\n",
      "('00057.ppm', 'Traffic signals')\n",
      "('00058.ppm', 'No overtaking')\n",
      "('00059.ppm', 'Prohibited for vehicles with a permitted gross weight over 3.5t including their trailers, and for tractors except passenger cars and buses')\n",
      "('00060.ppm', 'Pass by on right')\n",
      "('00061.ppm', 'No overtaking for large trucks')\n",
      "('00062.ppm', '70 Km/h')\n",
      "('00063.ppm', 'No overtaking')\n",
      "('00064.ppm', 'No vehicles')\n",
      "('00065.ppm', 'No overtaking')\n",
      "('00066.ppm', 'Traffic signals')\n",
      "('00067.ppm', '50 Km/h')\n",
      "('00068.ppm', '80 Km/h')\n",
      "('00069.ppm', 'Children crossing ahead')\n",
      "('00070.ppm', 'Priority crossroad')\n",
      "('00071.ppm', 'Road works')\n",
      "('00072.ppm', 'Risk of snow or ice')\n",
      "('00073.ppm', 'Turn left ahead')\n",
      "('00074.ppm', '80 Km/h')\n",
      "('00075.ppm', 'Priority road')\n",
      "('00076.ppm', '30 Km/h')\n",
      "('00077.ppm', 'No overtaking for large trucks')\n",
      "('00078.ppm', '50 Km/h')\n",
      "('00079.ppm', 'Pedestrians in road ahead')\n",
      "('00080.ppm', 'Wild animals')\n",
      "('00081.ppm', 'Turn right ahead')\n",
      "('00082.ppm', 'Road works')\n",
      "('00083.ppm', '100 Km/h')\n",
      "('00084.ppm', 'No overtaking for large trucks')\n",
      "('00085.ppm', 'Ahead only')\n",
      "('00086.ppm', '60 Km/h')\n",
      "('00087.ppm', '80 Km/h')\n",
      "('00088.ppm', 'Uneven road')\n",
      "('00089.ppm', 'Give way')\n",
      "('00090.ppm', '60 Km/h')\n",
      "('00091.ppm', '30 Km/h')\n",
      "('00092.ppm', '50 Km/h')\n",
      "('00093.ppm', 'Stop')\n",
      "('00094.ppm', 'Priority road')\n",
      "('00095.ppm', 'End of all speed and overtaking restrictions')\n",
      "('00096.ppm', '60 Km/h')\n",
      "('00097.ppm', 'Pass by on right')\n",
      "('00098.ppm', 'No overtaking')\n",
      "('00099.ppm', 'Turn right ahead')\n",
      "('00100.ppm', '30 Km/h')\n"
     ]
    }
   ],
   "source": [
    "print(\"Time used by QBART classification: \" + str(qbart_endtime-qbart_starttime))\n",
    "print(\"Time used by tutorial classification: \" + str(tutorial_time_total)) \n",
    "\n",
    "# Since everything is a-ok, we print the results and also write it to a file for easy usage elsewhere.\n",
    "print(\"Printing classifications and writing to results.txt\")\n",
    "\n",
    "\n",
    "results_file = open(\"results.csv\",\"wb\")\n",
    "\n",
    "# Here we print the image file name alongside its classification (a number if image_classes is not specified)\n",
    "# The result is also saved as a results.csv file.\n",
    "for i in range(len(qbart_classifications)):\n",
    "    if image_classes is not None:\n",
    "        print(qbart_classifications[i][0], image_classes[qbart_classifications[i][1]])\n",
    "        results_file.write(str(qbart_classifications[i][0]) + \",\" + str(image_classes[qbart_classifications[i][1]])+ os.linesep)\n",
    "    else:\n",
    "        print(qbart_classifications[i][0], qbart_classifications[i][1])\n",
    "        results_file.write(str(qbart_classifications[i][0]) + \",\" + str(qbart_classifications[i][1])+ os.linesep)\n",
    "results_file.close()"
   ]
  },
  {
   "cell_type": "code",
   "execution_count": null,
   "metadata": {},
   "outputs": [],
   "source": []
  },
  {
   "cell_type": "code",
   "execution_count": null,
   "metadata": {},
   "outputs": [],
   "source": []
  }
 ],
 "metadata": {
  "kernelspec": {
   "display_name": "Python 2",
   "language": "python",
   "name": "python2"
  },
  "language_info": {
   "codemirror_mode": {
    "name": "ipython",
    "version": 2
   },
   "file_extension": ".py",
   "mimetype": "text/x-python",
   "name": "python",
   "nbconvert_exporter": "python",
   "pygments_lexer": "ipython2",
   "version": "2.7.12"
  }
 },
 "nbformat": 4,
 "nbformat_minor": 2
}
