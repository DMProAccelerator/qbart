{
 "cells": [
  {
   "cell_type": "markdown",
   "metadata": {
    "deletable": true,
    "editable": true
   },
   "source": [
    "# QBART: Minimal Viable Product Edition\n",
    "\n",
    "*Welcome to QBART, the Quantized, Bitserial, AcceleRaThor!*\n",
    "\n",
    "<img src=\"logo.png\",width=400,height=400>\n",
    "\n",
    "In this MVP-implementation, the QBART-team have prepared the following:\n",
    "- Two layers run on the FPGA (the actual accelerator): thresholding and fully connected. A padding unit is also available for the several layers.\n",
    "- All the other layers run on the Cortex A9s: pooling, convolution, sliding window.\n",
    "- We utilize little to no BRAM on the FPGA, as most IO is saved directly to DRAM, and we have no custom memory hierarchy for the FPGA, so memory performance is suboptimal.\n",
    "\n",
    "All in all, it might not accelerate anything at all, so the MVP is more a proof of concept, while future iterations will actually make this faster than the actual implementation. \n",
    "\n",
    "Alright, let's get to it!\n",
    "\n",
    "Requirements:\n",
    "- A trained QNN that is pickled and formatted similarly as the GTSRB benchmark.\n",
    "- This must be placed on the PYNQ, and you must edit the QNN path below so that QBART can find and work on it.\n",
    "- Image(s) must also be placed in a seperate folders, and you must set the image path accordingly.\n",
    "\n",
    "Alright, with the requirements done, we run the first code block to load the QNN.\n",
    "\n"
   ]
  },
  {
   "cell_type": "code",
   "execution_count": 5,
   "metadata": {
    "collapsed": false,
    "deletable": true,
    "editable": true
   },
   "outputs": [
    {
     "ename": "TypeError",
     "evalue": "'NoneType' object is not iterable",
     "output_type": "error",
     "traceback": [
      "\u001b[0;31m\u001b[0m",
      "\u001b[0;31mTypeError\u001b[0mTraceback (most recent call last)",
      "\u001b[0;32m<ipython-input-5-a552dc882c92>\u001b[0m in \u001b[0;36m<module>\u001b[0;34m()\u001b[0m\n\u001b[1;32m     34\u001b[0m \u001b[0;34m\u001b[0m\u001b[0m\n\u001b[1;32m     35\u001b[0m \u001b[0mimages\u001b[0m \u001b[0;34m=\u001b[0m \u001b[0mload_images\u001b[0m\u001b[0;34m(\u001b[0m\u001b[0mimage_dir\u001b[0m\u001b[0;34m)\u001b[0m\u001b[0;34m\u001b[0m\u001b[0m\n\u001b[0;32m---> 36\u001b[0;31m \u001b[0;32mfor\u001b[0m \u001b[0mimage\u001b[0m \u001b[0;32min\u001b[0m \u001b[0mimages\u001b[0m\u001b[0;34m:\u001b[0m\u001b[0;34m\u001b[0m\u001b[0m\n\u001b[0m\u001b[1;32m     37\u001b[0m     \u001b[0;32mprint\u001b[0m\u001b[0;34m(\u001b[0m\u001b[0mimage\u001b[0m\u001b[0;34m)\u001b[0m\u001b[0;34m\u001b[0m\u001b[0m\n\u001b[1;32m     38\u001b[0m \u001b[0;34m\u001b[0m\u001b[0m\n",
      "\u001b[0;31mTypeError\u001b[0m: 'NoneType' object is not iterable"
     ]
    }
   ],
   "source": [
    "from PIL import Image\n",
    "import matplotlib.pyplot as plt\n",
    "import numpy as np\n",
    "import sys\n",
    "import glob\n",
    "import errno\n",
    "from QNN import *\n",
    "import pickle\n",
    "\n",
    "qnn_path = None    # This must be submitted by the user.\n",
    "image_dir = \"gtsrb_images\"  # This must be submitted by the user.\n",
    "\n",
    "# Loads all the images from the folder provided by the user, \n",
    "# returns a python list of references to those images loaded as PIL images.\n",
    "# Should be placed in a separate function file when debug is finished.\n",
    "def load_images(image_dir):\n",
    "    if image_dir is None:\n",
    "        return -1\n",
    "    \n",
    "    images = []\n",
    "    \n",
    "    # START CREDIT (with some mods): https://askubuntu.com/questions/352198/reading-all-files-from-a-directory\n",
    "    files = glob.glob(image_dir)   \n",
    "    for image in files: # 'file' is a builtin type, 'name' is a less-ambiguous variable name.\n",
    "        try:\n",
    "            img = Image.open(image) #load image with PIL, like in tutorials.\n",
    "            img = img.convert(\"L\") # Convert to black and white image.\n",
    "            \n",
    "            images.append(img)\n",
    "        except IOError as exc:\n",
    "            if exc.errno != errno.EISDIR: # Do not fail if a directory is found, just ignore it.\n",
    "                raise # Propagate other kinds of IOError.\n",
    "                \n",
    "    # END CREDIT\n",
    "\n",
    "images = load_images(image_dir)\n",
    "for image in images:\n",
    "    print(image)\n",
    "    \n",
    "# Loads the QNN from a pickle file, and returns a list of the layers, identical to the tutorial code.\n",
    "def load_qnn(qnn_filepath):\n",
    "    if qnn_filepath is None:\n",
    "        return -1\n",
    "    # load the qnn\n",
    "    qnn = pickle.load(open(qnn_filepath, \"rb\"))\n",
    "    return qnn"
   ]
  },
  {
   "cell_type": "code",
   "execution_count": null,
   "metadata": {
    "collapsed": true,
    "deletable": true,
    "editable": true
   },
   "outputs": [],
   "source": []
  }
 ],
 "metadata": {
  "kernelspec": {
   "display_name": "Python 2",
   "language": "python",
   "name": "python2"
  }
 },
 "nbformat": 4,
 "nbformat_minor": 2
}
